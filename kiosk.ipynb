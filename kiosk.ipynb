{
 "cells": [
  {
   "cell_type": "code",
   "execution_count": null,
   "id": "58b2d97e",
   "metadata": {},
   "outputs": [],
   "source": [
    "coffee = ['americano', 'latte', 'mocha'] \n",
    "c_price = [2000, 3000, 3000]\n",
    "non_coffee = ['yuza_tea', 'green_tea', 'choco_latte']\n",
    "n_price = [2500, 2500, 3000]\n",
    "menu = ['americano', 'latte', 'mocha', 'yuza_tea', 'green_tea', 'choco_latte']\n",
    "price = [2000, 3000, 3000, 2500, 2500, 3000]\n",
    "\n",
    "class Kiosk: \n",
    "    def __init__(self):\n",
    "        self.menu = ['americano', 'latte', 'mocha', 'yuza_tea', 'green_tea', 'choco_latte']\n",
    "        self.price = [2000, 3000, 3000, 2500, 2500, 3000]\n",
    "\n",
    "    # 메뉴 출력\n",
    "    def menu_print(self):\n",
    "        for i in range(len(self.menu)):\n",
    "            print(i + 1, self.menu[i], ' : ', self.price[i], '원')\n",
    "\n",
    "    # 주문 입력\n",
    "    def menu_select(self):\n",
    "        self.order_menu = []\n",
    "        self.order_price = []\n",
    "        self.price_sum = 0\n",
    "        n=0\n",
    "        \n",
    "        while True:\n",
    "            n = int(input(\"음료 번호를 입력하세요 : \"))\n",
    "            if 1 <= n & n<= len(self.menu):\n",
    "                print(self.menu[n-1], ' : ', self.price[n-1], '원')\n",
    "                break\n",
    "            else:\n",
    "                print(\"없는 메뉴입니다. 다시 입력해주세요.\")\n",
    "                continue\n",
    "\n",
    "        # 온도 입력\n",
    "        t = 0\n",
    "        while t != 1 and t != 2:\n",
    "            t = int(input(\"HOT 음료는 1을, ICE 음료는 2를 입력하세요 : \"))\n",
    "            if t == 1:\n",
    "                self.temp = 'HOT'\n",
    "                print(\"HOT 음료 주문합니다\")\n",
    "            elif t == 2:\n",
    "                self.temp = 'ICE'\n",
    "                print(\"ICE 음료 주문합니다\")\n",
    "            else:\n",
    "                print(\"1과 2 중 하나를 입력하세요.\\n\")\n",
    "\n",
    "        # 주문 저장\n",
    "        self.order_menu.append(self.temp + ' ' + self.menu[n - 1])\n",
    "        self.order_price.append(self.price[n - 1])\n",
    "        self.price_sum = self.price[n - 1]\n",
    "        print('주문 음료', self.temp, self.menu[n - 1], ' : ', self.price[n - 1], '원')\n",
    "\n",
    "        # 추가 주문 또는 지불\n",
    "        while True:\n",
    "            print()\n",
    "            n = int(input(\"추가 주문은 음료 번호를, 지불은 0을 누르세요 : \"))\n",
    "\n",
    "            if n == 0:\n",
    "                print(\"주문이 완료되었습니다.\")\n",
    "                print(self.order_menu, self.order_price)\n",
    "                break\n",
    "\n",
    "            if 1 <= n <= len(self.menu):\n",
    "                t = 0\n",
    "                while t != 1 and t != 2:\n",
    "                    t = int(input(\"HOT 음료는 1을, ICE 음료는 2를 입력하세요: \"))\n",
    "                    if t == 1:\n",
    "                        self.temp = 'HOT'\n",
    "                    elif t == 2:\n",
    "                        self.temp = 'ICE'\n",
    "                    else:\n",
    "                        print(\"1과 2 중 하나를 입력하세요.\\n\")\n",
    "\n",
    "                self.order_menu.append(self.temp + ' ' + self.menu[n - 1])\n",
    "                self.order_price.append(self.price[n - 1])\n",
    "                self.price_sum += self.price[n - 1]\n",
    "                print('추가 주문 음료', self.temp, self.menu[n - 1], ':', self.price[n - 1], '원\\n', '합계 : ', self.price_sum, '원')\n",
    "            else:\n",
    "                print(\"없는 메뉴입니다. 다시 주문해 주세요.\")\n",
    "\n",
    "    # 결제 방식\n",
    "    def pay(self):\n",
    "        self.pay_method = 0\n",
    "        while self.pay_method not in [1, 2]:\n",
    "            self.pay_method = int(input('지불 수단을 선택하세요. 현금은 1, 카드는 2: '))\n",
    "            if self.pay_method == 1:\n",
    "                print('💵 직원을 호출하겠습니다.')\n",
    "            elif self.pay_method == 2:\n",
    "                print('💳 IC칩 방향에 맞게 카드를 꽂아주세요.')\n",
    "            else:\n",
    "                print('1 또는 2를 입력해주세요.')\n",
    "\n",
    "    # 주문서 출력\n",
    "    def table(self):\n",
    "        print('\\n⟝' + '-' * 30 + '⟞')\n",
    "        for _ in range(6):\n",
    "            print('|' + ' ' * 31 + '|')\n",
    "\n",
    "        for i in range(len(self.order_menu)):\n",
    "            print(self.order_menu[i], ' : ', self.order_price[i])\n",
    "\n",
    "        print('합계 금액 :', self.price_sum)\n",
    "\n",
    "        for _ in range(6):\n",
    "            print('|' + ' ' * 31 + '|')\n",
    "        print('⟝' + '-' * 30 + '⟞')"
   ]
  },
  {
   "cell_type": "code",
   "execution_count": null,
   "id": "aab65f1f",
   "metadata": {},
   "outputs": [],
   "source": [
    "a=Kiosk()"
   ]
  },
  {
   "cell_type": "code",
   "execution_count": null,
   "id": "3b65e7e3",
   "metadata": {},
   "outputs": [],
   "source": [
    "a.menu_print()"
   ]
  },
  {
   "cell_type": "code",
   "execution_count": null,
   "id": "cafb841c",
   "metadata": {},
   "outputs": [],
   "source": [
    "a.menu_select()"
   ]
  },
  {
   "cell_type": "code",
   "execution_count": null,
   "id": "da16eb01",
   "metadata": {},
   "outputs": [],
   "source": [
    "a.pay()"
   ]
  },
  {
   "cell_type": "code",
   "execution_count": null,
   "id": "d5762a73",
   "metadata": {},
   "outputs": [],
   "source": [
    "a.table()"
   ]
  },
  {
   "cell_type": "code",
   "execution_count": null,
   "id": "3e9709f7",
   "metadata": {},
   "outputs": [],
   "source": []
  }
 ],
 "metadata": {
  "kernelspec": {
   "display_name": "Python 3 (ipykernel)",
   "language": "python",
   "name": "python3"
  },
  "language_info": {
   "codemirror_mode": {
    "name": "ipython",
    "version": 3
   },
   "file_extension": ".py",
   "mimetype": "text/x-python",
   "name": "python",
   "nbconvert_exporter": "python",
   "pygments_lexer": "ipython3",
   "version": "3.9.7"
  }
 },
 "nbformat": 4,
 "nbformat_minor": 5
}
